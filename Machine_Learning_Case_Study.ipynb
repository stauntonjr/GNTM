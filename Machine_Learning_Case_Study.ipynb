{
 "cells": [
  {
   "cell_type": "markdown",
   "id": "9df15839-e82a-4f72-98d6-758df0c3836c",
   "metadata": {},
   "source": [
    "# Machine Learning Case Study\n",
    "***\n",
    "Cohere’s mission is to reduce complexity and waste in clinical care.  To that end we are seeking to build a flexible and expressive technology that allows for the codification of clinical rules and patient observations to automate clinical insurance approval. Often the most valuable clinical observation data is locked in clinical narratives. We are seeking to employ creative and effective natural language processing techniques to clinical notes in order to gain a better understanding of the clinical content. \n",
    "## Task\n",
    "Using the data in [sampleclinicalnotes.zip](https://drive.google.com/file/d/1HFzT2bWkK9idNVbxMySAB8oNEAY0KYBZ/view?usp=sharing) it is expected that you will apply Graph Machine Learning techniques to uncover the common underlying factors for a given medical condition. Each txt file contains pertinent sections such as the Discharge Diagnosis, Chief Complaint and History of Present Illness which are the focal point of this exercise. Accompanying each file are annotations representing the output of a named entity recognition process. This should help compliment the factors found during modeling. \n",
    "\n",
    "Once you have related the underlying factors and conditions, choose one of the below questions to answer:\n",
    "1. What are the differences between the graphs for male and female patients?\n",
    "2. What variations are present between the graphs for patients of different ages?\n",
    "3. How do the graphs vary for patients who are taking medications that they're allergic to vs those who are not?\n",
    "4. Given a medication, provide a list of the most similar medications; based on associated underlying\n",
    "\n",
    "## Setup\n",
    "The below code is to help you get started. Please feel free to modify it to meet your needs. \n",
    "***"
   ]
  },
  {
   "cell_type": "markdown",
   "id": "705425e9-d088-45e7-9934-2062a2acb4f2",
   "metadata": {},
   "source": [
    "## Imports"
   ]
  },
  {
   "cell_type": "code",
   "execution_count": 1,
   "id": "d619bd56-514d-4334-8849-0d83f91bfba1",
   "metadata": {},
   "outputs": [],
   "source": [
    "import os\n",
    "import re\n",
    "import spacy\n",
    "import scispacy\n",
    "import pandas as pd\n",
    "from spacy.lang.en.stop_words import STOP_WORDS\n",
    "from spacy.lang.en import English"
   ]
  },
  {
   "cell_type": "code",
   "execution_count": 2,
   "id": "5763f34f-7f9c-4853-b370-e75cd5a2b6e5",
   "metadata": {},
   "outputs": [],
   "source": [
    "nlp = spacy.load(\"en_core_sci_md\")"
   ]
  },
  {
   "cell_type": "markdown",
   "id": "de4644ea-d649-452e-a244-b41d5993ed0c",
   "metadata": {},
   "source": [
    "## Read Data Files"
   ]
  },
  {
   "cell_type": "code",
   "execution_count": 3,
   "id": "beefc278-041e-4bbd-96af-f5aebbe86c9a",
   "metadata": {},
   "outputs": [
    {
     "data": {
      "text/plain": [
       "607"
      ]
     },
     "execution_count": 3,
     "metadata": {},
     "output_type": "execute_result"
    }
   ],
   "source": [
    "# Set file path for training data\n",
    "data_files = 'Downloads/cohere_task/training_20180910'\n",
    "\n",
    "# Get a list of all of the files provided\n",
    "files = os.listdir(data_files)\n",
    "len(files)"
   ]
  },
  {
   "cell_type": "code",
   "execution_count": 4,
   "id": "54340392-990e-4d97-9045-40a82283eb69",
   "metadata": {},
   "outputs": [
    {
     "data": {
      "text/plain": [
       "303"
      ]
     },
     "execution_count": 4,
     "metadata": {},
     "output_type": "execute_result"
    }
   ],
   "source": [
    "# Make a list of the text files only\n",
    "text_files = [file for file in files if '.txt' in file]\n",
    "len(text_files)"
   ]
  },
  {
   "cell_type": "code",
   "execution_count": 5,
   "id": "fd39f890-c59b-4a5f-8054-c47740153d2c",
   "metadata": {},
   "outputs": [
    {
     "data": {
      "text/plain": [
       "303"
      ]
     },
     "execution_count": 5,
     "metadata": {},
     "output_type": "execute_result"
    }
   ],
   "source": [
    "# Make a list of the annotation files only\n",
    "ann_files = [file for file in files if '.ann' in file]\n",
    "len(ann_files)"
   ]
  },
  {
   "cell_type": "markdown",
   "id": "ec8157db-9d38-4417-97fb-612de40cf844",
   "metadata": {},
   "source": [
    "## Get Text by Section Headings"
   ]
  },
  {
   "cell_type": "code",
   "execution_count": 6,
   "id": "4245baa9-4505-4222-9c4f-61b7dd247080",
   "metadata": {},
   "outputs": [
    {
     "name": "stdout",
     "output_type": "stream",
     "text": [
      "You've specified 21 headings\n"
     ]
    }
   ],
   "source": [
    "# A list of headings found in the text documents.\n",
    "use_headings = ['SERVICE',\n",
    "                'CHIEF COMPLAINT',\n",
    "                 'ADMISSION DATE',\n",
    "                 'ALLERGIES',\n",
    "                 'PAST MEDICAL HISTORY',\n",
    "                 'HISTORY OF PRESENT ILLNESS',\n",
    "                 'SOCIAL HISTORY',\n",
    "                 'DISCHARGE MEDICATIONS',\n",
    "                 'DISCHARGE DISPOSITION',\n",
    "                 'ATTENDING',\n",
    "                 'DISCHARGE DIAGNOSIS',\n",
    "                 'DISCHARGE CONDITION',\n",
    "                 'MEDICATIONS ON ADMISSION',\n",
    "                 'BRIEF HOSPITAL COURSE',\n",
    "                 'DISCHARGE INSTRUCTIONS',\n",
    "                 'FAMILY HISTORY',\n",
    "                 'MAJOR SURGICAL OR INVASIVE PROCEDURE',\n",
    "                 'PHYSICAL EXAM',\n",
    "                 'DATE OF BIRTH',\n",
    "                 'FOLLOWUP INSTRUCTIONS',\n",
    "                 'PERTINENT RESULTS']\n",
    "\n",
    "print(\"You've specified\",len(use_headings),\"headings\")"
   ]
  },
  {
   "cell_type": "code",
   "execution_count": 7,
   "id": "a5af4de7-c541-4f65-8b68-6efeaa7a110c",
   "metadata": {
    "tags": []
   },
   "outputs": [
    {
     "data": {
      "text/html": [
       "<div>\n",
       "<style scoped>\n",
       "    .dataframe tbody tr th:only-of-type {\n",
       "        vertical-align: middle;\n",
       "    }\n",
       "\n",
       "    .dataframe tbody tr th {\n",
       "        vertical-align: top;\n",
       "    }\n",
       "\n",
       "    .dataframe thead th {\n",
       "        text-align: right;\n",
       "    }\n",
       "</style>\n",
       "<table border=\"1\" class=\"dataframe\">\n",
       "  <thead>\n",
       "    <tr style=\"text-align: right;\">\n",
       "      <th></th>\n",
       "      <th>File</th>\n",
       "      <th>Heading</th>\n",
       "      <th>Lines</th>\n",
       "      <th>Text</th>\n",
       "      <th>Entities</th>\n",
       "    </tr>\n",
       "  </thead>\n",
       "  <tbody>\n",
       "    <tr>\n",
       "      <th>0</th>\n",
       "      <td>110727.txt</td>\n",
       "      <td>ADMISSION DATE</td>\n",
       "      <td>[0, 2]</td>\n",
       "      <td>Discharge Date</td>\n",
       "      <td>[(Discharge)]</td>\n",
       "    </tr>\n",
       "    <tr>\n",
       "      <th>1</th>\n",
       "      <td>110727.txt</td>\n",
       "      <td>DATE OF BIRTH</td>\n",
       "      <td>[2, 4]</td>\n",
       "      <td>Sex M</td>\n",
       "      <td>[(Sex, M)]</td>\n",
       "    </tr>\n",
       "    <tr>\n",
       "      <th>2</th>\n",
       "      <td>110727.txt</td>\n",
       "      <td>SERVICE</td>\n",
       "      <td>[4, 6]</td>\n",
       "      <td>MEDICINE</td>\n",
       "      <td>[(MEDICINE)]</td>\n",
       "    </tr>\n",
       "    <tr>\n",
       "      <th>3</th>\n",
       "      <td>110727.txt</td>\n",
       "      <td>ALLERGIES</td>\n",
       "      <td>[6, 9]</td>\n",
       "      <td>Keflex Orencia Remicade</td>\n",
       "      <td>[(Keflex), (Orencia, Remicade)]</td>\n",
       "    </tr>\n",
       "    <tr>\n",
       "      <th>4</th>\n",
       "      <td>110727.txt</td>\n",
       "      <td>ATTENDING</td>\n",
       "      <td>[9, 10]</td>\n",
       "      <td>First Name LF</td>\n",
       "      <td>[(LF)]</td>\n",
       "    </tr>\n",
       "  </tbody>\n",
       "</table>\n",
       "</div>"
      ],
      "text/plain": [
       "         File         Heading    Lines                     Text  \\\n",
       "0  110727.txt  ADMISSION DATE   [0, 2]           Discharge Date   \n",
       "1  110727.txt   DATE OF BIRTH   [2, 4]                    Sex M   \n",
       "2  110727.txt         SERVICE   [4, 6]                 MEDICINE   \n",
       "3  110727.txt       ALLERGIES   [6, 9]  Keflex Orencia Remicade   \n",
       "4  110727.txt       ATTENDING  [9, 10]            First Name LF   \n",
       "\n",
       "                          Entities  \n",
       "0                    [(Discharge)]  \n",
       "1                       [(Sex, M)]  \n",
       "2                     [(MEDICINE)]  \n",
       "3  [(Keflex), (Orencia, Remicade)]  \n",
       "4                           [(LF)]  "
      ]
     },
     "execution_count": 7,
     "metadata": {},
     "output_type": "execute_result"
    }
   ],
   "source": [
    "# This block of code goes through the text files and the lines in each file. \n",
    "# It then splits the text by heading, and converts it to a dataframe with rows: File, Heading, Lines, Text and Entities. \n",
    "# So in the end you will have a line for each Heading with it's text contents and the entities for the text. \n",
    "# There is also some clean up to remove special characters.\n",
    "\n",
    "# Intializie dataframe\n",
    "text_df = pd.DataFrame()\n",
    "\n",
    "# Regex pattern for keeping only alpha characters and removing all special characters and numbers\n",
    "pattern = r'[^A-Za-z]+'\n",
    "\n",
    "\n",
    "for file in text_files:\n",
    "    # Read in text file\n",
    "    with open(data_files+\"/\"+file) as f:\n",
    "        lines = f.readlines()\n",
    "        \n",
    "    # Initialize headings dictionary - will be used to create dataframe\n",
    "    headings = {}\n",
    "    # Setup headings list to keep track of headings we've used\n",
    "    headings_list = []\n",
    "    # Find the lines that contain headings, then add them to the headings dictionary and lists.\n",
    "    for i in range(0,len(lines)):\n",
    "        potential_heading = lines[i].split(\":\")[0].upper()\n",
    "        if (i==0)&(\":\" in lines[i])&(potential_heading in use_headings):\n",
    "            headings[i] = {'File': file, 'Heading': lines[i].split(\":\")[0]}\n",
    "            headings_list.append(potential_heading)\n",
    "        elif (len(lines[i])>1)&(\":\" in lines[i])&(potential_heading in use_headings)&(potential_heading not in (headings_list)):\n",
    "            headings[i] = {'File': file, 'Heading': lines[i].split(\":\")[0]}\n",
    "            headings_list.append(potential_heading)\n",
    "\n",
    "    # Overwrite headings list - to have the final list of headings found in the document\n",
    "    headings_list = list(headings.keys())\n",
    "    \n",
    "    # For each heading, find the corresponding range of lines, grab the text for those lines, and get the entities\n",
    "    for i in range(len(headings_list)):\n",
    "        if i < len(headings_list)-1:\n",
    "            headings[headings_list[i]]['Lines'] = [headings_list[i],headings_list[i+1]]\n",
    "            text = \" \".join(lines[headings_list[i]:headings_list[i+1]]).replace(headings[headings_list[i]]['Heading']+\":\",\"\").replace(\"\\n\",\"\").strip()\n",
    "            text = re.sub(pattern, ' ', text).strip()\n",
    "            headings[headings_list[i]]['Text'] = text\n",
    "            headings[headings_list[i]]['Entities'] = list(nlp(text).ents)\n",
    "            headings[headings_list[i]]['Heading'] = headings[headings_list[i]]['Heading'].upper()\n",
    "        else:\n",
    "            headings[headings_list[i]]['Lines'] = [headings_list[i],len(lines)]\n",
    "            text = \" \".join(lines[headings_list[i]:len(lines)]).replace(headings[headings_list[i]]['Heading']+\":\",\"\").replace(\"\\n\",\"\").strip()\n",
    "            text = re.sub(pattern, ' ', text).strip()\n",
    "            headings[headings_list[i]]['Text'] = text\n",
    "            headings[headings_list[i]]['Entities'] = list(nlp(text).ents)\n",
    "            headings[headings_list[i]]['Heading'] = headings[headings_list[i]]['Heading'].upper()\n",
    "    \n",
    "    # Update the dataframe with headings data found for the text file\n",
    "    text_df = pd.concat([text_df,pd.DataFrame.from_dict(headings, orient='index')], ignore_index=True)\n",
    "\n",
    "text_df.head()"
   ]
  },
  {
   "cell_type": "markdown",
   "id": "11f90af1-8e10-427b-8e95-cae38841bbd0",
   "metadata": {},
   "source": [
    "## Get the conditions\n",
    "Choose which columns you want to include for conditions."
   ]
  },
  {
   "cell_type": "code",
   "execution_count": 8,
   "id": "485577ee-7cda-4bbc-8599-5f6d95faa1c3",
   "metadata": {},
   "outputs": [
    {
     "data": {
      "text/html": [
       "<div>\n",
       "<style scoped>\n",
       "    .dataframe tbody tr th:only-of-type {\n",
       "        vertical-align: middle;\n",
       "    }\n",
       "\n",
       "    .dataframe tbody tr th {\n",
       "        vertical-align: top;\n",
       "    }\n",
       "\n",
       "    .dataframe thead tr th {\n",
       "        text-align: left;\n",
       "    }\n",
       "\n",
       "    .dataframe thead tr:last-of-type th {\n",
       "        text-align: right;\n",
       "    }\n",
       "</style>\n",
       "<table border=\"1\" class=\"dataframe\">\n",
       "  <thead>\n",
       "    <tr>\n",
       "      <th></th>\n",
       "      <th colspan=\"2\" halign=\"left\">Text</th>\n",
       "      <th colspan=\"2\" halign=\"left\">Entities</th>\n",
       "    </tr>\n",
       "    <tr>\n",
       "      <th>Heading</th>\n",
       "      <th>CHIEF COMPLAINT</th>\n",
       "      <th>DISCHARGE DIAGNOSIS</th>\n",
       "      <th>CHIEF COMPLAINT</th>\n",
       "      <th>DISCHARGE DIAGNOSIS</th>\n",
       "    </tr>\n",
       "    <tr>\n",
       "      <th>File</th>\n",
       "      <th></th>\n",
       "      <th></th>\n",
       "      <th></th>\n",
       "      <th></th>\n",
       "    </tr>\n",
       "  </thead>\n",
       "  <tbody>\n",
       "    <tr>\n",
       "      <th>100035.txt</th>\n",
       "      <td>Post cardiac arrest asthma exacerbation</td>\n",
       "      <td>Anoxic Brain Injury s p PEA arrest x Status As...</td>\n",
       "      <td>[(Post, cardiac, arrest), (asthma, exacerbation)]</td>\n",
       "      <td>[(Anoxic), (Brain, Injury), (PEA, arrest), (St...</td>\n",
       "    </tr>\n",
       "    <tr>\n",
       "      <th>100039.txt</th>\n",
       "      <td>Abdominal Pain</td>\n",
       "      <td>Primary Abdominal Pain Acute on chronic renal ...</td>\n",
       "      <td>[(Abdominal, Pain)]</td>\n",
       "      <td>[(Primary, Abdominal, Pain), (Acute), (chronic...</td>\n",
       "    </tr>\n",
       "    <tr>\n",
       "      <th>100187.txt</th>\n",
       "      <td>SOB</td>\n",
       "      <td>Primary Pulmonary Embolism with history of DVT...</td>\n",
       "      <td>[(SOB)]</td>\n",
       "      <td>[(Primary, Pulmonary, Embolism), (history), (D...</td>\n",
       "    </tr>\n",
       "    <tr>\n",
       "      <th>100229.txt</th>\n",
       "      <td>Hypotension with elevated lactate code sepsis</td>\n",
       "      <td>Primary Sepsis Shock liver Heparin induced thr...</td>\n",
       "      <td>[(Hypotension), (elevated, lactate, code, seps...</td>\n",
       "      <td>[(Primary, Sepsis), (Shock, liver, Heparin), (...</td>\n",
       "    </tr>\n",
       "    <tr>\n",
       "      <th>100564.txt</th>\n",
       "      <td>SVC thrombosis</td>\n",
       "      <td>Deep Vein Thrombosis of subclavian vein Rectal...</td>\n",
       "      <td>[(SVC, thrombosis)]</td>\n",
       "      <td>[(Deep, Vein), (Thrombosis), (subclavian, vein...</td>\n",
       "    </tr>\n",
       "  </tbody>\n",
       "</table>\n",
       "</div>"
      ],
      "text/plain": [
       "                                                     Text  \\\n",
       "Heading                                   CHIEF COMPLAINT   \n",
       "File                                                        \n",
       "100035.txt        Post cardiac arrest asthma exacerbation   \n",
       "100039.txt                                 Abdominal Pain   \n",
       "100187.txt                                            SOB   \n",
       "100229.txt  Hypotension with elevated lactate code sepsis   \n",
       "100564.txt                                 SVC thrombosis   \n",
       "\n",
       "                                                               \\\n",
       "Heading                                   DISCHARGE DIAGNOSIS   \n",
       "File                                                            \n",
       "100035.txt  Anoxic Brain Injury s p PEA arrest x Status As...   \n",
       "100039.txt  Primary Abdominal Pain Acute on chronic renal ...   \n",
       "100187.txt  Primary Pulmonary Embolism with history of DVT...   \n",
       "100229.txt  Primary Sepsis Shock liver Heparin induced thr...   \n",
       "100564.txt  Deep Vein Thrombosis of subclavian vein Rectal...   \n",
       "\n",
       "                                                     Entities  \\\n",
       "Heading                                       CHIEF COMPLAINT   \n",
       "File                                                            \n",
       "100035.txt  [(Post, cardiac, arrest), (asthma, exacerbation)]   \n",
       "100039.txt                                [(Abdominal, Pain)]   \n",
       "100187.txt                                            [(SOB)]   \n",
       "100229.txt  [(Hypotension), (elevated, lactate, code, seps...   \n",
       "100564.txt                                [(SVC, thrombosis)]   \n",
       "\n",
       "                                                               \n",
       "Heading                                   DISCHARGE DIAGNOSIS  \n",
       "File                                                           \n",
       "100035.txt  [(Anoxic), (Brain, Injury), (PEA, arrest), (St...  \n",
       "100039.txt  [(Primary, Abdominal, Pain), (Acute), (chronic...  \n",
       "100187.txt  [(Primary, Pulmonary, Embolism), (history), (D...  \n",
       "100229.txt  [(Primary, Sepsis), (Shock, liver, Heparin), (...  \n",
       "100564.txt  [(Deep, Vein), (Thrombosis), (subclavian, vein...  "
      ]
     },
     "execution_count": 8,
     "metadata": {},
     "output_type": "execute_result"
    }
   ],
   "source": [
    "conditions_headings = ['DISCHARGE DIAGNOSIS', 'CHIEF COMPLAINT']\n",
    "condition_df = text_df[text_df['Heading'].isin(conditions_headings)].pivot(index='File', columns='Heading', values=['Text', 'Entities'])\n",
    "\n",
    "condition_df.head()"
   ]
  },
  {
   "cell_type": "markdown",
   "id": "03d0ac05-56c6-46d6-b0f4-8abe71bde002",
   "metadata": {},
   "source": [
    "## Get the underlying factors\n",
    "Choose which columns that you want to include for underlying factors."
   ]
  },
  {
   "cell_type": "code",
   "execution_count": 9,
   "id": "37a6989e-1585-417e-8f53-c8d3d64d444d",
   "metadata": {},
   "outputs": [
    {
     "data": {
      "text/html": [
       "<div>\n",
       "<style scoped>\n",
       "    .dataframe tbody tr th:only-of-type {\n",
       "        vertical-align: middle;\n",
       "    }\n",
       "\n",
       "    .dataframe tbody tr th {\n",
       "        vertical-align: top;\n",
       "    }\n",
       "\n",
       "    .dataframe thead tr th {\n",
       "        text-align: left;\n",
       "    }\n",
       "\n",
       "    .dataframe thead tr:last-of-type th {\n",
       "        text-align: right;\n",
       "    }\n",
       "</style>\n",
       "<table border=\"1\" class=\"dataframe\">\n",
       "  <thead>\n",
       "    <tr>\n",
       "      <th></th>\n",
       "      <th>Text</th>\n",
       "      <th>Entities</th>\n",
       "    </tr>\n",
       "    <tr>\n",
       "      <th>Heading</th>\n",
       "      <th>HISTORY OF PRESENT ILLNESS</th>\n",
       "      <th>HISTORY OF PRESENT ILLNESS</th>\n",
       "    </tr>\n",
       "    <tr>\n",
       "      <th>File</th>\n",
       "      <th></th>\n",
       "      <th></th>\n",
       "    </tr>\n",
       "  </thead>\n",
       "  <tbody>\n",
       "    <tr>\n",
       "      <th>100035.txt</th>\n",
       "      <td>Mr Known lastname is a year old gentleman with...</td>\n",
       "      <td>[(year), (gentleman), (PMH), (signifciant), (d...</td>\n",
       "    </tr>\n",
       "    <tr>\n",
       "      <th>100039.txt</th>\n",
       "      <td>yo F w h o ALL in remission s p cord transplan...</td>\n",
       "      <td>[(yo), (ALL), (remission), (cord, transplant),...</td>\n",
       "    </tr>\n",
       "    <tr>\n",
       "      <th>100187.txt</th>\n",
       "      <td>yo woman w h o recurrent PEs s Initials NamePa...</td>\n",
       "      <td>[(yo), (woman), (recurrent), (PEs), (Initials)...</td>\n",
       "    </tr>\n",
       "    <tr>\n",
       "      <th>100229.txt</th>\n",
       "      <td>yoM PMH ESRD secondary to Brights disease on H...</td>\n",
       "      <td>[(yoM), (PMH), (ESRD), (secondary, to, Brights...</td>\n",
       "    </tr>\n",
       "    <tr>\n",
       "      <th>100564.txt</th>\n",
       "      <td>yo male with hx of rectal CA DMII and histopla...</td>\n",
       "      <td>[(yo), (male), (rectal, CA), (DMII), (histopla...</td>\n",
       "    </tr>\n",
       "    <tr>\n",
       "      <th>...</th>\n",
       "      <td>...</td>\n",
       "      <td>...</td>\n",
       "    </tr>\n",
       "    <tr>\n",
       "      <th>195689.txt</th>\n",
       "      <td>Pt is a y o African American gentleman who has...</td>\n",
       "      <td>[(Pt), (African, American), (gentleman), (medi...</td>\n",
       "    </tr>\n",
       "    <tr>\n",
       "      <th>195784.txt</th>\n",
       "      <td>The patient is a year old male with a history ...</td>\n",
       "      <td>[(patient), (year), (male), (history), (hepati...</td>\n",
       "    </tr>\n",
       "    <tr>\n",
       "      <th>196798.txt</th>\n",
       "      <td>This is a year old woman with history of CAD C...</td>\n",
       "      <td>[(year), (woman), (history), (CAD), (CHF), (co...</td>\n",
       "    </tr>\n",
       "    <tr>\n",
       "      <th>197869.txt</th>\n",
       "      <td>yo male with a history of DM CAD s p CABG peri...</td>\n",
       "      <td>[(yo), (male), (history), (DM), (CAD), (CABG, ...</td>\n",
       "    </tr>\n",
       "    <tr>\n",
       "      <th>198406.txt</th>\n",
       "      <td>This is a Age over y o female with past medica...</td>\n",
       "      <td>[(Age), (female), (medical, history), (CAD), (...</td>\n",
       "    </tr>\n",
       "  </tbody>\n",
       "</table>\n",
       "<p>285 rows × 2 columns</p>\n",
       "</div>"
      ],
      "text/plain": [
       "                                                         Text  \\\n",
       "Heading                            HISTORY OF PRESENT ILLNESS   \n",
       "File                                                            \n",
       "100035.txt  Mr Known lastname is a year old gentleman with...   \n",
       "100039.txt  yo F w h o ALL in remission s p cord transplan...   \n",
       "100187.txt  yo woman w h o recurrent PEs s Initials NamePa...   \n",
       "100229.txt  yoM PMH ESRD secondary to Brights disease on H...   \n",
       "100564.txt  yo male with hx of rectal CA DMII and histopla...   \n",
       "...                                                       ...   \n",
       "195689.txt  Pt is a y o African American gentleman who has...   \n",
       "195784.txt  The patient is a year old male with a history ...   \n",
       "196798.txt  This is a year old woman with history of CAD C...   \n",
       "197869.txt  yo male with a history of DM CAD s p CABG peri...   \n",
       "198406.txt  This is a Age over y o female with past medica...   \n",
       "\n",
       "                                                     Entities  \n",
       "Heading                            HISTORY OF PRESENT ILLNESS  \n",
       "File                                                           \n",
       "100035.txt  [(year), (gentleman), (PMH), (signifciant), (d...  \n",
       "100039.txt  [(yo), (ALL), (remission), (cord, transplant),...  \n",
       "100187.txt  [(yo), (woman), (recurrent), (PEs), (Initials)...  \n",
       "100229.txt  [(yoM), (PMH), (ESRD), (secondary, to, Brights...  \n",
       "100564.txt  [(yo), (male), (rectal, CA), (DMII), (histopla...  \n",
       "...                                                       ...  \n",
       "195689.txt  [(Pt), (African, American), (gentleman), (medi...  \n",
       "195784.txt  [(patient), (year), (male), (history), (hepati...  \n",
       "196798.txt  [(year), (woman), (history), (CAD), (CHF), (co...  \n",
       "197869.txt  [(yo), (male), (history), (DM), (CAD), (CABG, ...  \n",
       "198406.txt  [(Age), (female), (medical, history), (CAD), (...  \n",
       "\n",
       "[285 rows x 2 columns]"
      ]
     },
     "execution_count": 9,
     "metadata": {},
     "output_type": "execute_result"
    }
   ],
   "source": [
    "factors_headings = ['HISTORY OF PRESENT ILLNESS']\n",
    "factor_df = text_df[text_df['Heading'].isin(factors_headings)].pivot(index='File', columns='Heading', values=['Text', 'Entities'])\n",
    "factor_df"
   ]
  },
  {
   "cell_type": "markdown",
   "id": "43fc8f53-5a42-4b29-aad7-c017a6cd9609",
   "metadata": {},
   "source": [
    "***\n",
    "***\n",
    "# Your Code\n",
    "***\n",
    "***"
   ]
  },
  {
   "cell_type": "code",
   "execution_count": null,
   "id": "df2ed069-6ab2-4d91-a90c-2a22cb84d6c3",
   "metadata": {},
   "outputs": [],
   "source": []
  }
 ],
 "metadata": {
  "kernelspec": {
   "display_name": "Python 3 (ipykernel)",
   "language": "python",
   "name": "python3"
  },
  "language_info": {
   "codemirror_mode": {
    "name": "ipython",
    "version": 3
   },
   "file_extension": ".py",
   "mimetype": "text/x-python",
   "name": "python",
   "nbconvert_exporter": "python",
   "pygments_lexer": "ipython3",
   "version": "3.9.7"
  }
 },
 "nbformat": 4,
 "nbformat_minor": 5
}
